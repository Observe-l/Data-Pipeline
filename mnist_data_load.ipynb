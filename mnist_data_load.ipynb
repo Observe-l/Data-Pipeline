{
 "cells": [
  {
   "cell_type": "markdown",
   "metadata": {},
   "source": [
    "# Read mnist data from keras"
   ]
  },
  {
   "cell_type": "code",
   "execution_count": 1,
   "metadata": {},
   "outputs": [
    {
     "name": "stdout",
     "output_type": "stream",
     "text": [
      "(60000, 28, 28)\n",
      "(60000, 10)\n"
     ]
    }
   ],
   "source": [
    "import numpy as np\n",
    "import pickle\n",
    "from tensorflow import keras\n",
    "from tensorflow.keras import layers\n",
    "import mlflow\n",
    "\n",
    "from hyperopt import hp, tpe, fmin, Trials, SparkTrials, STATUS_OK\n",
    "\n",
    "# Model / data parameters\n",
    "num_classes = 10\n",
    "input_shape = (28, 28, 1)\n",
    "\n",
    "# Load the data and split it between train and test sets\n",
    "(x_train, y_train), (x_test, y_test) = keras.datasets.mnist.load_data()\n",
    "# Scale images to the [0, 1] range\n",
    "x_train = x_train.astype(\"float32\") / 255\n",
    "x_test = x_test.astype(\"float32\") / 255\n",
    "print(x_train.shape)\n",
    "\n",
    "# convert class vectors to binary class matrices\n",
    "y_train = keras.utils.to_categorical(y_train, num_classes)\n",
    "y_test = keras.utils.to_categorical(y_test, num_classes)\n",
    "print(y_train.shape)"
   ]
  },
  {
   "cell_type": "markdown",
   "metadata": {},
   "source": [
    "## Reshape the mnist dataset and save into txt file"
   ]
  },
  {
   "cell_type": "code",
   "execution_count": null,
   "metadata": {},
   "outputs": [],
   "source": [
    "train_all = np.concatenate((x_train, x_test))\n",
    "train_save = np.split(train_all,[10000])\n",
    "file_name = 'mnist_data.p'\n",
    "print(train_save[0].shape)\n",
    "print(train_save[1].shape)\n",
    "pickle.dump(train_save[0],open(file_name,\"wb\"))"
   ]
  },
  {
   "cell_type": "markdown",
   "metadata": {},
   "source": [
    "Save label"
   ]
  },
  {
   "cell_type": "code",
   "execution_count": null,
   "metadata": {},
   "outputs": [],
   "source": [
    "file_name = 'mnist_label.p'\n",
    "label_all = np.concatenate((y_train,y_test))\n",
    "train_label = np.split(label_all,[10000])\n",
    "print(train_label[0].shape)\n",
    "print(train_label[1].shape)\n",
    "pickle.dump(train_label[0],open(file_name,\"wb\"))"
   ]
  },
  {
   "cell_type": "markdown",
   "metadata": {},
   "source": [
    "Try to read bin file"
   ]
  },
  {
   "cell_type": "code",
   "execution_count": null,
   "metadata": {},
   "outputs": [],
   "source": [
    "file_name = 'mnist_data.p'\n",
    "read_x_train = pickle.load(open(file_name,'rb'))\n",
    "read_x_train = read_x_train.reshape(read_x_train.shape[0],-1).tolist()\n",
    "file_name = 'mnist_label.p'\n",
    "read_y_train = pickle.load(open(file_name,'rb')).tolist()\n",
    "print(read_y_train[0])"
   ]
  },
  {
   "cell_type": "code",
   "execution_count": null,
   "metadata": {},
   "outputs": [],
   "source": [
    "import pickle\n",
    "from pathlib import Path\n",
    "import pandas as pd\n",
    "import numpy as np\n",
    "\n",
    "import json\n",
    "import mlflow\n",
    "from tensorflow import keras\n",
    "from tensorflow.keras import layers\n",
    "from kafka import KafkaConsumer, KafkaProducer\n",
    "from hyperopt import hp, tpe, fmin, Trials, SparkTrials, STATUS_OK\n",
    "\n",
    "KAFKA_HOST = 'redpc:9092'\n",
    "TOPICS = ['mnist_app', 'mnist_train']\n",
    "PATH = Path('mnist_data/')\n",
    "APPEND_DATA = PATH/'messages'\n",
    "TRAIN_DATA = PATH/'train'\n",
    "\n",
    "consumer = KafkaConsumer(bootstrap_servers=KAFKA_HOST)\n",
    "consumer.subscribe(TOPICS)\n",
    "\n",
    "mlflow.set_tracking_uri(\"http://redpc:5000\")\n",
    "model_name = \"mnist_best_model\"\n",
    "client = mlflow.tracking.MlflowClient()\n",
    "\n",
    "model = mlflow.pyfunc.load_model(\n",
    "    model_uri=f\"models:/{model_name}/Production\"\n",
    ")\n",
    "\n",
    "for kafka_msg in consumer:\n",
    "    msg_value = json.loads(kafka_msg.value)\n",
    "    if kafka_msg.topic == 'mnist_app' and 'prediction' not in msg_value:\n",
    "        request_id = msg_value['request_id']\n",
    "        pred_data = np.array(msg_value['data']).reshape(1,28,28,1)\n",
    "        pred = model.predict(pred_data)\n",
    "        print(pred)"
   ]
  },
  {
   "cell_type": "code",
   "execution_count": null,
   "metadata": {},
   "outputs": [],
   "source": [
    "import json\n",
    "import pandas as pd\n",
    "import numpy as np\n",
    "\n",
    "import mlflow\n",
    "from pathlib import Path\n",
    "from tensorflow import keras\n",
    "from tensorflow.keras import layers\n",
    "from utils.kafka_producer import publish_messages, append_data\n",
    "from kafka import KafkaConsumer, KafkaProducer\n",
    "\n",
    "\n",
    "# The global parameters. Data path and server uri\n",
    "KAFKA_HOST = 'redpc:9092'\n",
    "TOPICS = ['mnist_app', 'mnist_train']\n",
    "MODLE_NAME = 'mnist_best_model'\n",
    "PATH = Path('mnist_data/')\n",
    "APPEND_DATA = PATH/'messages'\n",
    "TRAIN_DATA = PATH/'train'\n",
    "RETRAIN_EVERY = 50\n",
    "\n",
    "mlflow.set_tracking_uri(\"http://redpc:5000\")\n",
    "client = mlflow.tracking.MlflowClient()\n",
    "\n",
    "\n",
    "def reload_model(model_name:str, model_version:str = None) -> mlflow.pyfunc.PyFuncModel:\n",
    "    '''\n",
    "    The models are stored in the MLflow tracking server.\n",
    "    Fetch the latest model\n",
    "    '''\n",
    "    if model_version:\n",
    "        model = mlflow.pyfunc.load_model(\n",
    "            model_uri=f\"models:/{model_name}/{model_version}\"\n",
    "        )\n",
    "    else:\n",
    "        model = mlflow.pyfunc.load_model(\n",
    "            model_uri=f\"models:/{model_name}/Production\"\n",
    "        )\n",
    "    return model\n",
    "\n",
    "def predict(model,message):\n",
    "    pred_data = np.array(message).reshape(1,28,28,1)\n",
    "    pred = model.predict(pred_data)\n",
    "    return pred\n",
    "\n",
    "if __name__ == '__main__':\n",
    "    model = reload_model(model_name = MODLE_NAME)\n",
    "    consumer = KafkaConsumer(bootstrap_servers=KAFKA_HOST)\n",
    "    consumer.subscribe(TOPICS)\n",
    "    message_count = 0\n",
    "    batch_id = 0\n",
    "    for kafka_msg in consumer:\n",
    "        msg_value = json.loads(kafka_msg.value)\n",
    "        if kafka_msg.topic == 'mnist_train' and 'training_completed' in msg_value and msg_value['training_completed']:\n",
    "            latest_version = msg_value['model_version']\n",
    "            model = reload_model(MODLE_NAME,latest_version)\n",
    "            print(f'New model reloaded: version {latest_version}')\n",
    "        elif kafka_msg.topic == 'mnist_app' and 'prediction' not in msg_value:\n",
    "            request_id = msg_value['request_id']\n",
    "            pred = predict(model,msg_value['data'])\n",
    "            tmp_app = {'request_id': request_id, 'prediction': np.argmax(pred)}\n",
    "            publish_messages(topic='mnist_app',messages=tmp_app)\n",
    "            append_data(msg_value,TRAIN_DATA,APPEND_DATA,batch_id)\n",
    "            message_count += 1\n",
    "            if message_count % RETRAIN_EVERY == 0:\n",
    "                tmp_train = {'retrain': True, 'batch_id': batch_id}\n",
    "                publish_messages(topic='mnist_train', messages=tmp_train)\n",
    "                batch_id += 1\n",
    "\n"
   ]
  },
  {
   "cell_type": "code",
   "execution_count": null,
   "metadata": {},
   "outputs": [],
   "source": [
    "import json\n",
    "import pandas as pd\n",
    "import numpy as np\n",
    "\n",
    "import mlflow\n",
    "from pathlib import Path\n",
    "from tensorflow import keras\n",
    "from tensorflow.keras import layers\n",
    "from utils.kafka_producer import publish_messages, append_data\n",
    "from kafka import KafkaConsumer, KafkaProducer\n",
    "\n",
    "tmp_train = {'retrain': True, 'batch_id': 1}\n",
    "publish_messages(topic='mnist_train', messages=tmp_train)"
   ]
  }
 ],
 "metadata": {
  "kernelspec": {
   "display_name": "Python 3.10.4 64-bit",
   "language": "python",
   "name": "python3"
  },
  "language_info": {
   "codemirror_mode": {
    "name": "ipython",
    "version": 3
   },
   "file_extension": ".py",
   "mimetype": "text/x-python",
   "name": "python",
   "nbconvert_exporter": "python",
   "pygments_lexer": "ipython3",
   "version": "3.10.4"
  },
  "orig_nbformat": 4,
  "vscode": {
   "interpreter": {
    "hash": "e7370f93d1d0cde622a1f8e1c04877d8463912d04d973331ad4851f04de6915a"
   }
  }
 },
 "nbformat": 4,
 "nbformat_minor": 2
}
